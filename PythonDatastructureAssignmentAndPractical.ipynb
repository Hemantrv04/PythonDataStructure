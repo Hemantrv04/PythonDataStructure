{
  "nbformat": 4,
  "nbformat_minor": 0,
  "metadata": {
    "colab": {
      "provenance": []
    },
    "kernelspec": {
      "name": "python3",
      "display_name": "Python 3"
    },
    "language_info": {
      "name": "python"
    }
  },
  "cells": [
    {
      "cell_type": "markdown",
      "source": [
        "#Python Data structure Questions"
      ],
      "metadata": {
        "id": "Jvgkn1MMvKx8"
      }
    },
    {
      "cell_type": "markdown",
      "source": [
        "1.  What are data structures, and why are they important ?\n",
        "\n",
        "    --> Python Data Stucture is a organized format of storing, managing, and make any neccessary changes effictiently.\n",
        "    It is important to data mangement, problem solving, memory utilization, etc."
      ],
      "metadata": {
        "id": "GkjrQ6xKvdSM"
      }
    },
    {
      "cell_type": "markdown",
      "source": [
        "2.   Explain the difference between mutable and immutable data types with examples ?\n",
        "\n",
        "     --> Mutable list are created to make changes as per the requirement.\n",
        "\n",
        "     Example :\n",
        "\n",
        "     list = [1,2,3,4]\n",
        "\n",
        "     print(list)\n",
        "\n",
        "     list.appent(5)\n",
        "\n",
        "     Immutable list are created for fixed value that cannot be changed anytime.\n",
        "\n",
        "     Example :\n",
        "\n",
        "     a = \"Hello\"\n",
        "\n",
        "     a + = \"World!!\"\n",
        "     \n",
        "     print(a)\n",
        "\n",
        "\n",
        "\n",
        "\n"
      ],
      "metadata": {
        "id": "bsAf0a8jvdJK"
      }
    },
    {
      "cell_type": "markdown",
      "source": [
        "3. What are the main differences between lists and tuples in Python ?\n",
        "\n",
        "   --> List\n",
        "   1.  List is Mutable.\n",
        "   2.  List is deifined using square bracets[]\n",
        "\n",
        "       Tuples\n",
        "   1. Tuples are immutable.\n",
        "   2. Tuples can be defined using parenthesis()\n",
        "   \n",
        "\n",
        "\n"
      ],
      "metadata": {
        "id": "m-cXp59rvctX"
      }
    },
    {
      "cell_type": "markdown",
      "source": [
        "4. Describe how dictionaries store data ?\n",
        "\n",
        "   --> Dictionary stores a date in the formant of key-value pair. Key must be unique and immutable and value can be mutable as as well as immutable."
      ],
      "metadata": {
        "id": "6K1-M1Fivcnf"
      }
    },
    {
      "cell_type": "markdown",
      "source": [
        "5. Why might you use a set instead of a list in Python ?\n",
        "\n",
        "   --> Using a set instead of python becuase it is faster than list, it does not allow duplicate element in set, it sort unordered element in ordered element, etc."
      ],
      "metadata": {
        "id": "5hb3AZMEvcli"
      }
    },
    {
      "cell_type": "markdown",
      "source": [
        "6. What is a string in Python, and how is it different from a list ?\n",
        "\n",
        "  --> String is sequence of charecter that enclosed with single ('') and the double (\"\") quotes\n",
        "\n",
        "  String is sequence of character and list is sequence of element.\n",
        "\n",
        "  String is defined with singe and double quotes and list is defined using square brackets.\n",
        "\n",
        "  string is immutable and list is mutable."
      ],
      "metadata": {
        "id": "BnZwi2JRvcjM"
      }
    },
    {
      "cell_type": "markdown",
      "source": [
        "7. How do tuples ensure data integrity in Python ?\n",
        "\n",
        "   --> Once the tuple is created with its element it cannot add, remove, and change element this immutability feature ensures the integrity of data."
      ],
      "metadata": {
        "id": "5GlDQyNqvchJ"
      }
    },
    {
      "cell_type": "markdown",
      "source": [
        "8. What is a hash table, and how does it relate to dictionaries in Python ?\n",
        "\n",
        "   --> Hash table is a daata structure that store a key pair value and python are built using hash tables."
      ],
      "metadata": {
        "id": "q6OxudCFvce4"
      }
    },
    {
      "cell_type": "markdown",
      "source": [
        "9. Can lists contain different data types in Python ?\n",
        "   \n",
        "   --> Yes list contaain different data types in python becuare it is dynamic in nature.\n",
        "   "
      ],
      "metadata": {
        "id": "lGoESsMcvcce"
      }
    },
    {
      "cell_type": "markdown",
      "source": [
        "10.  Explain why strings are immutable in Python ?\n",
        "   \n",
        "     --> Strings are immutable means it cannot be changed due its pperformance, security and programming practice. String can modified using concatenation."
      ],
      "metadata": {
        "id": "URTKiVSPvcYA"
      }
    },
    {
      "cell_type": "markdown",
      "source": [
        "11. What advantages do dictionaries offer over lists for certain tasks ?\n",
        "\n",
        "    --> Dictionaries are faster for looking up specific values using keys, while lists require searching through all elements. They allow storing data as key-value pairs, making relationships clear and easy to manage. Dictionaries handle unique keys, helping to avoid duplicates. They're ideal for tasks requiring quick access or organized data.\n",
        "\n",
        "\n",
        "\n",
        "\n",
        "\n",
        "\n"
      ],
      "metadata": {
        "id": "o9i6CSb0vcN3"
      }
    },
    {
      "cell_type": "markdown",
      "source": [
        "12.  Describe a scenario where using a tuple would be preferable over a list ?\n",
        "\n",
        "     --> In order to store my friend mobile number of friend tuples is more preferable over list because mobile number is unique."
      ],
      "metadata": {
        "id": "kAGtjl8CvcCV"
      }
    },
    {
      "cell_type": "markdown",
      "source": [
        "13. How do sets handle duplicate values in Python ?\n",
        "\n",
        "    --> Set stores a unique element and it automatically remove the duplicate element."
      ],
      "metadata": {
        "id": "D6eXZZy2vRuA"
      }
    },
    {
      "cell_type": "markdown",
      "source": [
        "14.  How does the “in” keyword work differently for lists and dictionaries ?\n",
        "\n",
        "     --> For list - 'in' keyword is used to check the element is exists in the list or not if exist then reture true else false.\n",
        "\n",
        "     For dictionary - 'in' keyword is used to check the key exists or not. If not the return true else false.\n",
        "\n"
      ],
      "metadata": {
        "id": "xr0MEaqf97li"
      }
    },
    {
      "cell_type": "markdown",
      "source": [
        "15. Can you modify the elements of a tuple? Explain why or why not ?\n",
        "\n",
        "    --> No,  Tuples are immutable meaning their contents cannot be changed after they are created. Once you assign a value to a tuple element, it becomes fixed and cannot be modified."
      ],
      "metadata": {
        "id": "4Btas3Wg9-R7"
      }
    },
    {
      "cell_type": "markdown",
      "source": [
        "16. What is a nested dictionary, and give an example of its use case ?\n",
        "\n",
        "    --> Nested dictionary is a dictionary inside a dictionary.\n",
        "\n",
        "    Usecase :\n",
        "\n",
        "    student = {\n",
        "\n",
        "      \"Alice\":{\"age\":20, \"grade\":{\"math\":80,\"english\":90}\n",
        "      \n",
        "      \"Bob\":{\"age\":22,\"grade\":{\"math:95,\"english\":80}\n",
        "      \n",
        "      }\n",
        "    \n",
        "    print(student[\"Bob\"][\"age\"])\n",
        "    \n",
        "    output: 22\n",
        "    \n",
        "    print(student[\"Alice\"][\"grade\"][\"math'])\n",
        "    \n",
        "    output : 80\n"
      ],
      "metadata": {
        "id": "PJ_8-vIu992A"
      }
    },
    {
      "cell_type": "markdown",
      "source": [
        "17. Describe the time complexity of accessing elements in a dictionary?\n",
        "\n",
        "   --> The average time complexity of accessing element in a dictionary is O(1).\n",
        "   It means the average time taken to extract value from key."
      ],
      "metadata": {
        "id": "CAW3Vr5s99md"
      }
    },
    {
      "cell_type": "markdown",
      "source": [
        "18.  In what situations are lists preferred over dictionaries ?\n",
        "     --> List is prefered over a dictionary when the data is order, duplication are allow, elements are accessed by index, etc."
      ],
      "metadata": {
        "id": "ocEMHFkx981T"
      }
    },
    {
      "cell_type": "markdown",
      "source": [
        "19. Why are dictionaries considered unordered, and how does that affect data retrieval ?\n",
        "\n",
        "    --> Dictionaries are considered unordered due to their hash table implementation that prioritizes fast lookups over maintaining the order of elements.\n",
        "\n",
        "    Data retrieval from dictionaries is efficient because it’s based on keys, but if you need to retrieve elements in a specific order need to use other data structures, like lists, or explicitly sort the dictionary."
      ],
      "metadata": {
        "id": "GYLJu8sv97E2"
      }
    },
    {
      "cell_type": "markdown",
      "source": [
        "20.  Explain the difference between a list and a dictionary in terms of data retrieval ?\n",
        "\n",
        "     -->In a list, data is retrieved by its position (index) we need to know the exact location. In a dictionary, data is retrieved using unique keys, which are easier to remember and find. Searching in a list can take longer for with many items. Dictionaries provide faster and more direct access to specific data."
      ],
      "metadata": {
        "id": "uE6gwCMXHDes"
      }
    },
    {
      "cell_type": "markdown",
      "source": [
        "# Python Data Structure Practical"
      ],
      "metadata": {
        "id": "yLbiJBorHSVf"
      }
    },
    {
      "cell_type": "code",
      "source": [
        "# 1. Write a code to create a string with your name and print it\n",
        "name = \"Hemant Vishwakarma\"\n",
        "print(name)"
      ],
      "metadata": {
        "colab": {
          "base_uri": "https://localhost:8080/"
        },
        "id": "k0fYBRW3HcYq",
        "outputId": "b4f10aee-5e92-4229-8d05-02912e315c34"
      },
      "execution_count": null,
      "outputs": [
        {
          "output_type": "stream",
          "name": "stdout",
          "text": [
            "Hemant Vishwakarma\n"
          ]
        }
      ]
    },
    {
      "cell_type": "code",
      "source": [
        "# 2. Write a code to find the length of the string \"Hello World\"\n",
        "a= \"Hello World\"\n",
        "len(a)"
      ],
      "metadata": {
        "colab": {
          "base_uri": "https://localhost:8080/"
        },
        "id": "ImwOGQe8HgQq",
        "outputId": "1fa461b5-6977-4ef4-ad9a-a3052db5f930"
      },
      "execution_count": null,
      "outputs": [
        {
          "output_type": "execute_result",
          "data": {
            "text/plain": [
              "11"
            ]
          },
          "metadata": {},
          "execution_count": 2
        }
      ]
    },
    {
      "cell_type": "code",
      "source": [
        "# 3. Write a code to slice the first 3 characters from the string \"Python Programming\"\n",
        "a = \"Python Programming\"\n",
        "a[0:3]"
      ],
      "metadata": {
        "colab": {
          "base_uri": "https://localhost:8080/",
          "height": 36
        },
        "id": "cy_66aSUHgH0",
        "outputId": "15e3f785-d42a-4f00-e148-52753ba2d775"
      },
      "execution_count": null,
      "outputs": [
        {
          "output_type": "execute_result",
          "data": {
            "text/plain": [
              "'Pyt'"
            ],
            "application/vnd.google.colaboratory.intrinsic+json": {
              "type": "string"
            }
          },
          "metadata": {},
          "execution_count": 18
        }
      ]
    },
    {
      "cell_type": "code",
      "source": [
        "# 4. Write a code to convert the string \"hello\" to uppercaseE\n",
        "a = \"hello\"\n",
        "a = a.upper()\n",
        "print(a)"
      ],
      "metadata": {
        "colab": {
          "base_uri": "https://localhost:8080/"
        },
        "id": "hzAkN7bbHf-g",
        "outputId": "77477c98-1e8f-432e-e26b-f76e3ee72bc8"
      },
      "execution_count": null,
      "outputs": [
        {
          "output_type": "stream",
          "name": "stdout",
          "text": [
            "HELLO\n"
          ]
        }
      ]
    },
    {
      "cell_type": "code",
      "source": [
        "# 5. Write a code to replace the word \"apple\" with \"orange\" in the string \"I like apple\"\n",
        "a = \"I like apple\"\n",
        "a = a.replace(\"apple\",\"orange\")\n",
        "print(a)"
      ],
      "metadata": {
        "colab": {
          "base_uri": "https://localhost:8080/"
        },
        "id": "H-psPp1KHf01",
        "outputId": "bcedc3b8-e2d1-425b-9425-d15e2309efb4"
      },
      "execution_count": null,
      "outputs": [
        {
          "output_type": "stream",
          "name": "stdout",
          "text": [
            "I like orange\n"
          ]
        }
      ]
    },
    {
      "cell_type": "code",
      "source": [
        "# 6. Write a code to create a list with numbers 1 to 5 and print itE\n",
        "list = [1,2,3,4,5]\n",
        "print(list)"
      ],
      "metadata": {
        "colab": {
          "base_uri": "https://localhost:8080/"
        },
        "id": "DAOJ1E6mHfrx",
        "outputId": "06d3b0c8-d644-472d-93da-71fdd8b8aabf"
      },
      "execution_count": null,
      "outputs": [
        {
          "output_type": "stream",
          "name": "stdout",
          "text": [
            "[1, 2, 3, 4, 5]\n"
          ]
        }
      ]
    },
    {
      "cell_type": "code",
      "source": [
        "# 7. Write a code to append the number 10 to the list [1, 2, 3, 4]\n",
        "list = [1,2,3,4,5]\n",
        "list.append(10)\n",
        "print(list)"
      ],
      "metadata": {
        "colab": {
          "base_uri": "https://localhost:8080/"
        },
        "id": "_2nehTfYHfhT",
        "outputId": "f69540ad-2064-4aea-ddc3-81e1d37facd8"
      },
      "execution_count": null,
      "outputs": [
        {
          "output_type": "stream",
          "name": "stdout",
          "text": [
            "[1, 2, 3, 4, 5, 10]\n"
          ]
        }
      ]
    },
    {
      "cell_type": "code",
      "source": [
        "# 8. Write a code to remove the number 3 from the list [1, 2, 3, 4, 5]\n",
        "list = [1, 2, 3, 4, 5]\n",
        "list.remove(3)\n",
        "print(list)\n"
      ],
      "metadata": {
        "colab": {
          "base_uri": "https://localhost:8080/"
        },
        "id": "Bj6n6G4RHfYB",
        "outputId": "8a276eec-e826-425b-b357-d8ba418d5397"
      },
      "execution_count": null,
      "outputs": [
        {
          "output_type": "stream",
          "name": "stdout",
          "text": [
            "[1, 2, 4, 5]\n"
          ]
        }
      ]
    },
    {
      "cell_type": "code",
      "source": [
        "# 9. Write a code to access the second element in the list ['a', 'b', 'c', 'd']\n",
        "list = ['a', 'b', 'c', 'd']\n",
        "list[1]"
      ],
      "metadata": {
        "colab": {
          "base_uri": "https://localhost:8080/",
          "height": 36
        },
        "id": "MADjL3a5HfOB",
        "outputId": "e756a6cd-b32d-4a53-b8c0-55582c2ae741"
      },
      "execution_count": null,
      "outputs": [
        {
          "output_type": "execute_result",
          "data": {
            "text/plain": [
              "'b'"
            ],
            "application/vnd.google.colaboratory.intrinsic+json": {
              "type": "string"
            }
          },
          "metadata": {},
          "execution_count": 15
        }
      ]
    },
    {
      "cell_type": "code",
      "source": [
        "# 10. Write a code to reverse the list [10, 20, 30, 40, 50]\n",
        "list = [10, 20, 30, 40, 50]\n",
        "list.reverse()\n",
        "print(list)"
      ],
      "metadata": {
        "colab": {
          "base_uri": "https://localhost:8080/"
        },
        "id": "mUcyGzVeHfEy",
        "outputId": "7bd4b314-40ce-4a35-ad42-d681f4e7fd18"
      },
      "execution_count": null,
      "outputs": [
        {
          "output_type": "stream",
          "name": "stdout",
          "text": [
            "[50, 40, 30, 20, 10]\n"
          ]
        }
      ]
    },
    {
      "cell_type": "code",
      "source": [
        "# 11.  Write a code to create a tuple with the elements 10, 20, 30 and print it.\n",
        "tuple = (10,20,30)\n",
        "print(tuple)\n"
      ],
      "metadata": {
        "colab": {
          "base_uri": "https://localhost:8080/"
        },
        "id": "Cmm-a_65He60",
        "outputId": "8855390f-05c8-4e23-9eff-f349a87f28ff"
      },
      "execution_count": null,
      "outputs": [
        {
          "output_type": "stream",
          "name": "stdout",
          "text": [
            "(10, 20, 30)\n"
          ]
        }
      ]
    },
    {
      "cell_type": "code",
      "source": [
        "# 12. Write a code to access the first element of the tuple ('apple', 'banana', 'cherry')\n",
        "tuple = ('apple', 'banana', 'cherry')\n",
        "tuple[0]"
      ],
      "metadata": {
        "colab": {
          "base_uri": "https://localhost:8080/",
          "height": 36
        },
        "id": "sE-CGLFmHexJ",
        "outputId": "14d1623c-a439-4a72-d75a-af700bcb496d"
      },
      "execution_count": null,
      "outputs": [
        {
          "output_type": "execute_result",
          "data": {
            "text/plain": [
              "'apple'"
            ],
            "application/vnd.google.colaboratory.intrinsic+json": {
              "type": "string"
            }
          },
          "metadata": {},
          "execution_count": 22
        }
      ]
    },
    {
      "cell_type": "code",
      "source": [
        "# 13.  Write a code to count how many times the number 2 appears in the tuple (1, 2, 3, 2, 4, 2).\n",
        "tuple = (1, 2, 3, 2, 4, 2)\n",
        "tuple.count(2)"
      ],
      "metadata": {
        "colab": {
          "base_uri": "https://localhost:8080/"
        },
        "id": "P3_gtvfNHeny",
        "outputId": "fb3e6d13-9c73-4c11-e9bd-1282e413493b"
      },
      "execution_count": null,
      "outputs": [
        {
          "output_type": "execute_result",
          "data": {
            "text/plain": [
              "3"
            ]
          },
          "metadata": {},
          "execution_count": 23
        }
      ]
    },
    {
      "cell_type": "code",
      "source": [
        "# 14. Write a code to find the index of the element \"cat\" in the tuple ('dog', 'cat', 'rabbit').\n",
        "tuple = ('dog', 'cat', 'rabbit')\n",
        "tuple.index('cat')"
      ],
      "metadata": {
        "colab": {
          "base_uri": "https://localhost:8080/"
        },
        "id": "USit5lwoHee-",
        "outputId": "df1473c5-6527-4a3c-8849-64d73a63be46"
      },
      "execution_count": null,
      "outputs": [
        {
          "output_type": "execute_result",
          "data": {
            "text/plain": [
              "1"
            ]
          },
          "metadata": {},
          "execution_count": 24
        }
      ]
    },
    {
      "cell_type": "code",
      "source": [
        "# 15.  Write a code to check if the element \"banana\" is in the tuple ('apple', 'orange', 'banana').\n",
        "tuple = ('apple', 'orange', 'banana')\n",
        "if \"banana\" in tuple:\n",
        "  print(\"Yes\")\n",
        "else:\n",
        "  print(\"no\")"
      ],
      "metadata": {
        "colab": {
          "base_uri": "https://localhost:8080/"
        },
        "id": "J99SP9FfHeVU",
        "outputId": "fc15815f-b877-495b-91b7-95f813318996"
      },
      "execution_count": null,
      "outputs": [
        {
          "output_type": "stream",
          "name": "stdout",
          "text": [
            "Yes\n"
          ]
        }
      ]
    },
    {
      "cell_type": "code",
      "source": [
        "# 16.  Write a code to create a set with the elements 1, 2, 3, 4, 5 and print it\n",
        "set = {1,2,3,4,5}\n",
        "print(set)"
      ],
      "metadata": {
        "colab": {
          "base_uri": "https://localhost:8080/"
        },
        "id": "Tokhn1NMHeMS",
        "outputId": "1cf0ad29-66fa-4a3b-a1d7-921a22ffa700"
      },
      "execution_count": null,
      "outputs": [
        {
          "output_type": "stream",
          "name": "stdout",
          "text": [
            "{1, 2, 3, 4, 5}\n"
          ]
        }
      ]
    },
    {
      "cell_type": "code",
      "source": [
        "# 17.  Write a code to add the element 6 to the set {1, 2, 3, 4}.\n",
        "set = {1, 2, 3, 4}\n",
        "set.add(6)\n",
        "print(set)"
      ],
      "metadata": {
        "colab": {
          "base_uri": "https://localhost:8080/"
        },
        "id": "eWzEXe22HeCl",
        "outputId": "36c7b3b9-5ede-462b-d685-8c939e3a92f2"
      },
      "execution_count": null,
      "outputs": [
        {
          "output_type": "stream",
          "name": "stdout",
          "text": [
            "{1, 2, 3, 4, 6}\n"
          ]
        }
      ]
    },
    {
      "cell_type": "markdown",
      "source": [
        "# practical Q18 to 24 repeated"
      ],
      "metadata": {
        "id": "0rqw3fsQSTFd"
      }
    },
    {
      "cell_type": "code",
      "source": [],
      "metadata": {
        "id": "4buHYvf-HdmO"
      },
      "execution_count": null,
      "outputs": []
    },
    {
      "cell_type": "code",
      "source": [],
      "metadata": {
        "id": "ITuYalNSHdbR"
      },
      "execution_count": null,
      "outputs": []
    },
    {
      "cell_type": "code",
      "source": [],
      "metadata": {
        "id": "cg0ZKSW3HdQd"
      },
      "execution_count": null,
      "outputs": []
    },
    {
      "cell_type": "code",
      "source": [],
      "metadata": {
        "id": "HNmbHvQ_HdEq"
      },
      "execution_count": null,
      "outputs": []
    }
  ]
}